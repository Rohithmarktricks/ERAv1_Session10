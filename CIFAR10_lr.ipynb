{
 "cells": [
  {
   "cell_type": "markdown",
   "id": "410a67c3",
   "metadata": {},
   "source": [
    "### Clone the Codebase git repository"
   ]
  },
  {
   "cell_type": "code",
   "execution_count": 1,
   "id": "aa97254d",
   "metadata": {},
   "outputs": [],
   "source": [
    "# !git clone https://github.com/Rohithmarktricks/ERA_codebase.git\n",
    "# !ls"
   ]
  },
  {
   "cell_type": "markdown",
   "id": "6be7fe81",
   "metadata": {},
   "source": [
    "#### Import the required modules from the cloned repository"
   ]
  },
  {
   "cell_type": "code",
   "execution_count": 18,
   "id": "04ec9ef9",
   "metadata": {},
   "outputs": [],
   "source": [
    "from models import custom_resnet\n",
    "from main import Trainer, get_adam_optimizer, get_criterion_for_classification\n",
    "from utils import LRFinderCustom, Cifar10Dataset, get_device, get_dataloader_args, load_data, model_summary\n",
    "\n",
    "import albumentations as A\n",
    "from albumentations.pytorch.transforms import ToTensorV2\n",
    "\n",
    "from torch_lr_finder import LRFinder\n",
    "from torch.optim.lr_scheduler import OneCycleLR\n",
    "import torchvision\n",
    "import matplotlib.pyplot as plt\n",
    "%matplotlib inline"
   ]
  },
  {
   "cell_type": "code",
   "execution_count": 3,
   "id": "d0704908",
   "metadata": {},
   "outputs": [
    {
     "name": "stdout",
     "output_type": "stream",
     "text": [
      "cuda\n"
     ]
    }
   ],
   "source": [
    "# get the device\n",
    "device = get_device()\n",
    "print(device)"
   ]
  },
  {
   "cell_type": "markdown",
   "id": "aae3fcc8",
   "metadata": {},
   "source": [
    "### Use the albumentations module to create the composed image transformations (train/test) that could be used to generate the trainloader and testloader"
   ]
  },
  {
   "cell_type": "code",
   "execution_count": 4,
   "id": "377b2f87",
   "metadata": {},
   "outputs": [
    {
     "name": "stderr",
     "output_type": "stream",
     "text": [
      "c:\\Users\\rohit\\anaconda3\\envs\\tf\\lib\\site-packages\\albumentations\\augmentations\\dropout\\cutout.py:49: FutureWarning: Cutout has been deprecated. Please use CoarseDropout\n",
      "  warnings.warn(\n"
     ]
    }
   ],
   "source": [
    "# Train and test data augmentations\n",
    "\n",
    "train_transforms = A.Compose([\n",
    "    A.PadIfNeeded(min_height=36, min_width=36, border_mode=4),\n",
    "    A.RandomCrop(width=32, height=32),\n",
    "    A.HorizontalFlip(p=0.5),\n",
    "    A.Cutout(num_holes=1, max_h_size=8, max_w_size=8, fill_value=[0.4914, 0.4822, 0.4465], p=1),\n",
    "    A.Normalize(\n",
    "            mean = (0.4914, 0.4822, 0.4465),\n",
    "            std = (0.2470, 0.2435, 0.2616),\n",
    "            p =1.0\n",
    "        ),\n",
    "        ToTensorV2()\n",
    "    ],\n",
    "    p=1.0 )\n",
    "\n",
    "\n",
    "test_transforms = A.Compose(\n",
    "    [\n",
    "        A.Normalize(\n",
    "            mean = (0.4914, 0.4822, 0.4465),\n",
    "            std = (0.2470, 0.2435, 0.2616),\n",
    "            p =1.0\n",
    "        ),\n",
    "        ToTensorV2()\n",
    "    ],\n",
    "    p=1.0\n",
    ")"
   ]
  },
  {
   "cell_type": "code",
   "execution_count": 5,
   "id": "b5b7d177",
   "metadata": {},
   "outputs": [
    {
     "name": "stdout",
     "output_type": "stream",
     "text": [
      "{'shuffle': True, 'batch_size': 512, 'num_workers': 4, 'pin_memory': True}\n"
     ]
    }
   ],
   "source": [
    "# Hyperparameters for data\n",
    "batch_size = 512\n",
    "dataloader_args = get_dataloader_args(batch_size)\n",
    "print(dataloader_args)"
   ]
  },
  {
   "cell_type": "code",
   "execution_count": 6,
   "id": "48bc99ec",
   "metadata": {},
   "outputs": [
    {
     "name": "stdout",
     "output_type": "stream",
     "text": [
      "Files already downloaded and verified\n",
      "Files already downloaded and verified\n"
     ]
    }
   ],
   "source": [
    "\n",
    "trainloader = load_data(train=True, dataloader_args=dataloader_args,\n",
    "                       transforms=train_transforms)\n",
    "\n",
    "testloader = load_data(train=False, dataloader_args=dataloader_args,\n",
    "                      transforms = test_transforms)"
   ]
  },
  {
   "cell_type": "code",
   "execution_count": 7,
   "id": "318ca814",
   "metadata": {},
   "outputs": [
    {
     "data": {
      "text/plain": [
       "(98, 20)"
      ]
     },
     "execution_count": 7,
     "metadata": {},
     "output_type": "execute_result"
    }
   ],
   "source": [
    "len(trainloader), len(testloader)"
   ]
  },
  {
   "cell_type": "markdown",
   "id": "a410cc4e",
   "metadata": {},
   "source": [
    "### Create the model (from custom_resnet.py module)"
   ]
  },
  {
   "cell_type": "code",
   "execution_count": 8,
   "id": "de778f8c",
   "metadata": {},
   "outputs": [
    {
     "name": "stdout",
     "output_type": "stream",
     "text": [
      "----------------------------------------------------------------\n",
      "        Layer (type)               Output Shape         Param #\n",
      "================================================================\n",
      "            Conv2d-1           [-1, 64, 32, 32]           1,728\n",
      "       BatchNorm2d-2           [-1, 64, 32, 32]             128\n",
      "              ReLU-3           [-1, 64, 32, 32]               0\n",
      "            Conv2d-4          [-1, 128, 32, 32]          73,728\n",
      "         MaxPool2d-5          [-1, 128, 16, 16]               0\n",
      "       BatchNorm2d-6          [-1, 128, 16, 16]             256\n",
      "              ReLU-7          [-1, 128, 16, 16]               0\n",
      "            Conv2d-8          [-1, 128, 16, 16]         147,456\n",
      "       BatchNorm2d-9          [-1, 128, 16, 16]             256\n",
      "             ReLU-10          [-1, 128, 16, 16]               0\n",
      "           Conv2d-11          [-1, 128, 16, 16]         147,456\n",
      "      BatchNorm2d-12          [-1, 128, 16, 16]             256\n",
      "             ReLU-13          [-1, 128, 16, 16]               0\n",
      "         ResBlock-14          [-1, 128, 16, 16]               0\n",
      "           Conv2d-15          [-1, 256, 16, 16]         294,912\n",
      "        MaxPool2d-16            [-1, 256, 8, 8]               0\n",
      "      BatchNorm2d-17            [-1, 256, 8, 8]             512\n",
      "             ReLU-18            [-1, 256, 8, 8]               0\n",
      "           Conv2d-19            [-1, 512, 8, 8]       1,179,648\n",
      "        MaxPool2d-20            [-1, 512, 4, 4]               0\n",
      "      BatchNorm2d-21            [-1, 512, 4, 4]           1,024\n",
      "             ReLU-22            [-1, 512, 4, 4]               0\n",
      "           Conv2d-23            [-1, 512, 4, 4]       2,359,296\n",
      "      BatchNorm2d-24            [-1, 512, 4, 4]           1,024\n",
      "             ReLU-25            [-1, 512, 4, 4]               0\n",
      "           Conv2d-26            [-1, 512, 4, 4]       2,359,296\n",
      "      BatchNorm2d-27            [-1, 512, 4, 4]           1,024\n",
      "             ReLU-28            [-1, 512, 4, 4]               0\n",
      "         ResBlock-29            [-1, 512, 4, 4]               0\n",
      "        MaxPool2d-30            [-1, 512, 1, 1]               0\n",
      "           Linear-31                   [-1, 10]           5,130\n",
      "          Softmax-32                   [-1, 10]               0\n",
      "================================================================\n",
      "Total params: 6,573,130\n",
      "Trainable params: 6,573,130\n",
      "Non-trainable params: 0\n",
      "----------------------------------------------------------------\n",
      "Input size (MB): 0.01\n",
      "Forward/backward pass size (MB): 6.75\n",
      "Params size (MB): 25.07\n",
      "Estimated Total Size (MB): 31.84\n",
      "----------------------------------------------------------------\n"
     ]
    }
   ],
   "source": [
    "# define the model and get the summary\n",
    "nn_model = custom_resnet.ResNetCIFAR10().to(device)\n",
    "model_summary(nn_model, input_size=(3,32,32))"
   ]
  },
  {
   "cell_type": "code",
   "execution_count": 9,
   "id": "99c5dea7",
   "metadata": {},
   "outputs": [
    {
     "name": "stdout",
     "output_type": "stream",
     "text": [
      "Adam (\n",
      "Parameter Group 0\n",
      "    amsgrad: False\n",
      "    betas: (0.9, 0.999)\n",
      "    capturable: False\n",
      "    eps: 1e-08\n",
      "    foreach: None\n",
      "    lr: 0.0001\n",
      "    maximize: False\n",
      "    weight_decay: 0.01\n",
      ") CrossEntropyLoss()\n"
     ]
    }
   ],
   "source": [
    "# Get the required Optimizer and Criterion for CIFAR10 Classification task.\n",
    "\n",
    "optimizer = get_adam_optimizer(nn_model, lr=1e-4, weight_decay=1e-2)\n",
    "epochs = 24\n",
    "criterion = get_criterion_for_classification()\n",
    "\n",
    "print(optimizer, criterion)"
   ]
  },
  {
   "cell_type": "markdown",
   "id": "9ee6cbca",
   "metadata": {},
   "source": [
    "#### display the sample images"
   ]
  },
  {
   "cell_type": "code",
   "execution_count": 10,
   "id": "d3dd85a6",
   "metadata": {},
   "outputs": [],
   "source": [
    "images, targets = next(iter(trainloader))"
   ]
  },
  {
   "cell_type": "code",
   "execution_count": 13,
   "id": "5ae60864",
   "metadata": {},
   "outputs": [
    {
     "data": {
      "text/plain": [
       "(torch.Tensor, torch.Size([512, 3, 32, 32]), torch.Size([10, 3, 32, 32]))"
      ]
     },
     "execution_count": 13,
     "metadata": {},
     "output_type": "execute_result"
    }
   ],
   "source": [
    "type(images), images.shape, images[:10].shape"
   ]
  },
  {
   "cell_type": "code",
   "execution_count": 21,
   "id": "809f86e9",
   "metadata": {},
   "outputs": [
    {
     "name": "stderr",
     "output_type": "stream",
     "text": [
      "Clipping input data to the valid range for imshow with RGB data ([0..1] for floats or [0..255] for integers).\n"
     ]
    },
    {
     "data": {
      "image/png": "[encoded data removed]",
      "text/plain": [
       "<Figure size 640x480 with 1 Axes>"
      ]
     },
     "metadata": {},
     "output_type": "display_data"
    }
   ],
   "source": [
    "grid = torchvision.utils.make_grid(images[:16])\n",
    "grid = grid.numpy().transpose((1,2,0))\n",
    "\n",
    "plt.imshow(grid)\n",
    "plt.axis('off')\n",
    "plt.show()"
   ]
  },
  {
   "cell_type": "markdown",
   "id": "b35de00c",
   "metadata": {},
   "source": [
    "### Use LR Finder to get the optimum \"learning_rate\" value"
   ]
  },
  {
   "cell_type": "code",
   "execution_count": 22,
   "id": "6d00abb3",
   "metadata": {},
   "outputs": [],
   "source": [
    "lr_finder = LRFinder(nn_model, optimizer, criterion, device='cuda' )"
   ]
  },
  {
   "cell_type": "code",
   "execution_count": 23,
   "id": "1bad7329",
   "metadata": {},
   "outputs": [
    {
     "data": {
      "application/vnd.jupyter.widget-view+json": {
       "model_id": "cca639412f094ee9ab4232102a2d25f1",
       "version_major": 2,
       "version_minor": 0
      },
      "text/plain": [
       "  0%|          | 0/500 [00:00<?, ?it/s]"
      ]
     },
     "metadata": {},
     "output_type": "display_data"
    },
    {
     "name": "stdout",
     "output_type": "stream",
     "text": [
      "Learning rate search finished. See the graph with {finder_name}.plot()\n"
     ]
    }
   ],
   "source": [
    "lr_finder.range_test(trainloader, end_lr=0.01, num_iter=500, step_mode='exp')"
   ]
  },
  {
   "cell_type": "code",
   "execution_count": 34,
   "id": "5586b340",
   "metadata": {},
   "outputs": [
    {
     "name": "stdout",
     "output_type": "stream",
     "text": [
      "LR suggestion: steepest gradient\n",
      "Suggested LR: 1.17E-04\n"
     ]
    },
    {
     "data": {
      "image/png": "[encoded data removed]",
      "text/plain": [
       "<Figure size 640x480 with 1 Axes>"
      ]
     },
     "metadata": {},
     "output_type": "display_data"
    },
    {
     "data": {
      "text/plain": [
       "(<AxesSubplot:xlabel='Learning rate', ylabel='Loss'>, 0.00011698664131013073)"
      ]
     },
     "execution_count": 34,
     "metadata": {},
     "output_type": "execute_result"
    }
   ],
   "source": [
    "lr_finder.plot()"
   ]
  },
  {
   "cell_type": "code",
   "execution_count": 26,
   "id": "a1dc054e",
   "metadata": {},
   "outputs": [],
   "source": [
    "#Reset the model params and the optimizer vals\n",
    "lr_finder.reset()"
   ]
  },
  {
   "cell_type": "markdown",
   "id": "d19e9d94",
   "metadata": {},
   "source": [
    "### Now use the above suggested LR: 1.17E-04 as the max_lr for the OneCycleLR"
   ]
  },
  {
   "cell_type": "code",
   "execution_count": 31,
   "id": "4a9a1603",
   "metadata": {},
   "outputs": [],
   "source": [
    "max_lr = 1.17E-04\n",
    "base_lr = max_lr/10\n",
    "epochs = 24\n",
    "max_momentum = 0.95\n",
    "min_momentum = 0.85\n"
   ]
  },
  {
   "cell_type": "code",
   "execution_count": 32,
   "id": "e87d61d6",
   "metadata": {},
   "outputs": [],
   "source": [
    "scheduler = OneCycleLR(optimizer, max_lr=max_lr, epochs=epochs, steps_per_epoch = len(trainloader),\n",
    "                      anneal_strategy='linear', div_factor = 40)"
   ]
  },
  {
   "cell_type": "markdown",
   "id": "763bd98e",
   "metadata": {},
   "source": [
    "### Approach1: Source code for training and testing the model"
   ]
  },
  {
   "cell_type": "code",
   "execution_count": 37,
   "id": "b3556225",
   "metadata": {},
   "outputs": [],
   "source": [
    "import torch\n",
    "import torch.nn as nn\n",
    "import torch.optim as optim\n",
    "from tqdm import tqdm\n",
    "\n",
    "\n",
    "# Train function\n",
    "def train(model, trainloader, optimizer, criterion, device):\n",
    "    model.train()\n",
    "    train_losses = []\n",
    "    train_accs = []\n",
    "    \n",
    "    running_loss = 0.0\n",
    "    correct = 0\n",
    "    total = 0\n",
    "\n",
    "    for batch_idx, (inputs, targets) in enumerate(tqdm(trainloader)):\n",
    "        inputs, targets = inputs.to(device), targets.to(device)\n",
    "        optimizer.zero_grad()\n",
    "\n",
    "        # Forward pass\n",
    "        outputs = model(inputs)\n",
    "        loss = criterion(outputs, targets)\n",
    "\n",
    "        # Backward pass and optimization\n",
    "        loss.backward()\n",
    "        optimizer.step()\n",
    "        scheduler.step()\n",
    "\n",
    "        # Compute training accuracy\n",
    "        _, predicted = outputs.max(1)\n",
    "        total += targets.size(0)\n",
    "        correct += predicted.eq(targets).sum().item()\n",
    "\n",
    "        # Compute and store training loss and accuracy\n",
    "        train_losses.append(loss.item())\n",
    "        train_accs.append(100. * correct / total)\n",
    "\n",
    "    # Print and store training loss and accuracy\n",
    "    epoch_train_loss = sum(train_losses[-len(trainloader):]) / len(trainloader)\n",
    "    epoch_train_acc = sum(train_accs[-len(trainloader):]) / len(trainloader)\n",
    "    print(f\"training loss: {epoch_train_loss:.4f}, accuracy: {epoch_train_acc:.2f}, Optimzer LR: {optimizer.param_groups[0]['lr']}\")\n",
    "\n",
    "    return train_losses, train_accs\n",
    "\n",
    "# Test function\n",
    "def test(model, testloader, criterion, device):\n",
    "    model.eval()\n",
    "    test_losses = []\n",
    "    test_accs = []\n",
    "    \n",
    "    with torch.no_grad():\n",
    "        for batch_idx, (inputs, targets) in enumerate(tqdm(testloader)):\n",
    "            inputs, targets = inputs.to(device), targets.to(device)\n",
    "\n",
    "            # Forward pass\n",
    "            outputs = model(inputs)\n",
    "            loss = criterion(outputs, targets)\n",
    "\n",
    "            # Compute test accuracy\n",
    "            _, predicted = outputs.max(1)\n",
    "            total = targets.size(0)\n",
    "            correct = predicted.eq(targets).sum().item()\n",
    "\n",
    "            # Compute and store test loss and accuracy\n",
    "            test_losses.append(loss.item())\n",
    "            test_accs.append(100. * correct / total)\n",
    "\n",
    "        # Print and store test loss and accuracy\n",
    "        test_loss = sum(test_losses) / len(testloader)\n",
    "        test_acc = sum(test_accs) / len(testloader)\n",
    "        print(f\"Test loss: {test_loss:.4f}, accuracy: {test_acc:.2f}\")\n",
    "\n",
    "    return test_losses, test_accs\n"
   ]
  },
  {
   "cell_type": "code",
   "execution_count": 38,
   "id": "bce0ba2e",
   "metadata": {},
   "outputs": [
    {
     "name": "stdout",
     "output_type": "stream",
     "text": [
      "Epoch: 1\n"
     ]
    },
    {
     "name": "stderr",
     "output_type": "stream",
     "text": [
      "100%|██████████████████████████████████████████████████████████████████████████████████| 98/98 [00:24<00:00,  4.08it/s]\n"
     ]
    },
    {
     "name": "stdout",
     "output_type": "stream",
     "text": [
      "training loss: 1.9938, accuracy: 46.45, Optimzer LR: 1.8791236162361622e-05\n"
     ]
    },
    {
     "name": "stderr",
     "output_type": "stream",
     "text": [
      "100%|██████████████████████████████████████████████████████████████████████████████████| 20/20 [00:01<00:00, 12.90it/s]\n"
     ]
    },
    {
     "name": "stdout",
     "output_type": "stream",
     "text": [
      "Test loss: 1.9418, accuracy: 53.50\n",
      "Epoch: 2\n"
     ]
    },
    {
     "name": "stderr",
     "output_type": "stream",
     "text": [
      "100%|██████████████████████████████████████████████████████████████████████████████████| 98/98 [00:23<00:00,  4.11it/s]\n"
     ]
    },
    {
     "name": "stdout",
     "output_type": "stream",
     "text": [
      "training loss: 1.9358, accuracy: 52.93, Optimzer LR: 3.465747232472324e-05\n"
     ]
    },
    {
     "name": "stderr",
     "output_type": "stream",
     "text": [
      "100%|██████████████████████████████████████████████████████████████████████████████████| 20/20 [00:01<00:00, 12.92it/s]\n"
     ]
    },
    {
     "name": "stdout",
     "output_type": "stream",
     "text": [
      "Test loss: 1.8949, accuracy: 57.89\n",
      "Epoch: 3\n"
     ]
    },
    {
     "name": "stderr",
     "output_type": "stream",
     "text": [
      "100%|██████████████████████████████████████████████████████████████████████████████████| 98/98 [00:24<00:00,  4.07it/s]\n"
     ]
    },
    {
     "name": "stdout",
     "output_type": "stream",
     "text": [
      "training loss: 1.8896, accuracy: 57.01, Optimzer LR: 5.052370848708487e-05\n"
     ]
    },
    {
     "name": "stderr",
     "output_type": "stream",
     "text": [
      "100%|██████████████████████████████████████████████████████████████████████████████████| 20/20 [00:01<00:00, 12.84it/s]\n"
     ]
    },
    {
     "name": "stdout",
     "output_type": "stream",
     "text": [
      "Test loss: 1.8529, accuracy: 62.31\n",
      "Epoch: 4\n"
     ]
    },
    {
     "name": "stderr",
     "output_type": "stream",
     "text": [
      "100%|██████████████████████████████████████████████████████████████████████████████████| 98/98 [00:23<00:00,  4.11it/s]\n"
     ]
    },
    {
     "name": "stdout",
     "output_type": "stream",
     "text": [
      "training loss: 1.8416, accuracy: 62.29, Optimzer LR: 6.638994464944649e-05\n"
     ]
    },
    {
     "name": "stderr",
     "output_type": "stream",
     "text": [
      "100%|██████████████████████████████████████████████████████████████████████████████████| 20/20 [00:01<00:00, 13.02it/s]\n"
     ]
    },
    {
     "name": "stdout",
     "output_type": "stream",
     "text": [
      "Test loss: 1.8087, accuracy: 66.87\n",
      "Epoch: 5\n"
     ]
    },
    {
     "name": "stderr",
     "output_type": "stream",
     "text": [
      "100%|██████████████████████████████████████████████████████████████████████████████████| 98/98 [00:23<00:00,  4.12it/s]\n"
     ]
    },
    {
     "name": "stdout",
     "output_type": "stream",
     "text": [
      "training loss: 1.8047, accuracy: 66.27, Optimzer LR: 8.22561808118081e-05\n"
     ]
    },
    {
     "name": "stderr",
     "output_type": "stream",
     "text": [
      "100%|██████████████████████████████████████████████████████████████████████████████████| 20/20 [00:01<00:00, 12.96it/s]\n"
     ]
    },
    {
     "name": "stdout",
     "output_type": "stream",
     "text": [
      "Test loss: 1.7730, accuracy: 69.73\n",
      "Epoch: 6\n"
     ]
    },
    {
     "name": "stderr",
     "output_type": "stream",
     "text": [
      "100%|██████████████████████████████████████████████████████████████████████████████████| 98/98 [00:23<00:00,  4.10it/s]\n"
     ]
    },
    {
     "name": "stdout",
     "output_type": "stream",
     "text": [
      "training loss: 1.7748, accuracy: 69.48, Optimzer LR: 9.812241697416973e-05\n"
     ]
    },
    {
     "name": "stderr",
     "output_type": "stream",
     "text": [
      "100%|██████████████████████████████████████████████████████████████████████████████████| 20/20 [00:01<00:00, 13.05it/s]\n"
     ]
    },
    {
     "name": "stdout",
     "output_type": "stream",
     "text": [
      "Test loss: 1.7425, accuracy: 74.46\n",
      "Epoch: 7\n"
     ]
    },
    {
     "name": "stderr",
     "output_type": "stream",
     "text": [
      "100%|██████████████████████████████████████████████████████████████████████████████████| 98/98 [00:23<00:00,  4.09it/s]\n"
     ]
    },
    {
     "name": "stdout",
     "output_type": "stream",
     "text": [
      "training loss: 1.7371, accuracy: 74.32, Optimzer LR: 0.00011398865313653137\n"
     ]
    },
    {
     "name": "stderr",
     "output_type": "stream",
     "text": [
      "100%|██████████████████████████████████████████████████████████████████████████████████| 20/20 [00:01<00:00, 13.11it/s]\n"
     ]
    },
    {
     "name": "stdout",
     "output_type": "stream",
     "text": [
      "Test loss: 1.7043, accuracy: 77.63\n",
      "Epoch: 8\n"
     ]
    },
    {
     "name": "stderr",
     "output_type": "stream",
     "text": [
      "100%|██████████████████████████████████████████████████████████████████████████████████| 98/98 [00:23<00:00,  4.16it/s]\n"
     ]
    },
    {
     "name": "stdout",
     "output_type": "stream",
     "text": [
      "training loss: 1.7083, accuracy: 77.76, Optimzer LR: 0.00011135752139486151\n"
     ]
    },
    {
     "name": "stderr",
     "output_type": "stream",
     "text": [
      "100%|██████████████████████████████████████████████████████████████████████████████████| 20/20 [00:01<00:00, 13.50it/s]\n"
     ]
    },
    {
     "name": "stdout",
     "output_type": "stream",
     "text": [
      "Test loss: 1.7041, accuracy: 77.85\n",
      "Epoch: 9\n"
     ]
    },
    {
     "name": "stderr",
     "output_type": "stream",
     "text": [
      "100%|██████████████████████████████████████████████████████████████████████████████████| 98/98 [00:23<00:00,  4.12it/s]\n"
     ]
    },
    {
     "name": "stdout",
     "output_type": "stream",
     "text": [
      "training loss: 1.6872, accuracy: 79.60, Optimzer LR: 0.00010439325309129009\n"
     ]
    },
    {
     "name": "stderr",
     "output_type": "stream",
     "text": [
      "100%|██████████████████████████████████████████████████████████████████████████████████| 20/20 [00:01<00:00, 12.94it/s]\n"
     ]
    },
    {
     "name": "stdout",
     "output_type": "stream",
     "text": [
      "Test loss: 1.7052, accuracy: 77.34\n",
      "Epoch: 10\n"
     ]
    },
    {
     "name": "stderr",
     "output_type": "stream",
     "text": [
      "100%|██████████████████████████████████████████████████████████████████████████████████| 98/98 [00:23<00:00,  4.11it/s]\n"
     ]
    },
    {
     "name": "stdout",
     "output_type": "stream",
     "text": [
      "training loss: 1.6717, accuracy: 81.00, Optimzer LR: 9.742898478771866e-05\n"
     ]
    },
    {
     "name": "stderr",
     "output_type": "stream",
     "text": [
      "100%|██████████████████████████████████████████████████████████████████████████████████| 20/20 [00:01<00:00, 12.88it/s]\n"
     ]
    },
    {
     "name": "stdout",
     "output_type": "stream",
     "text": [
      "Test loss: 1.6626, accuracy: 81.41\n",
      "Epoch: 11\n"
     ]
    },
    {
     "name": "stderr",
     "output_type": "stream",
     "text": [
      "100%|██████████████████████████████████████████████████████████████████████████████████| 98/98 [00:24<00:00,  4.07it/s]\n"
     ]
    },
    {
     "name": "stdout",
     "output_type": "stream",
     "text": [
      "training loss: 1.6558, accuracy: 82.75, Optimzer LR: 9.046471648414723e-05\n"
     ]
    },
    {
     "name": "stderr",
     "output_type": "stream",
     "text": [
      "100%|██████████████████████████████████████████████████████████████████████████████████| 20/20 [00:01<00:00, 12.80it/s]\n"
     ]
    },
    {
     "name": "stdout",
     "output_type": "stream",
     "text": [
      "Test loss: 1.6538, accuracy: 82.63\n",
      "Epoch: 12\n"
     ]
    },
    {
     "name": "stderr",
     "output_type": "stream",
     "text": [
      "100%|██████████████████████████████████████████████████████████████████████████████████| 98/98 [00:23<00:00,  4.08it/s]\n"
     ]
    },
    {
     "name": "stdout",
     "output_type": "stream",
     "text": [
      "training loss: 1.6465, accuracy: 83.49, Optimzer LR: 8.35004481805758e-05\n"
     ]
    },
    {
     "name": "stderr",
     "output_type": "stream",
     "text": [
      "100%|██████████████████████████████████████████████████████████████████████████████████| 20/20 [00:01<00:00, 12.91it/s]\n"
     ]
    },
    {
     "name": "stdout",
     "output_type": "stream",
     "text": [
      "Test loss: 1.6504, accuracy: 82.88\n",
      "Epoch: 13\n"
     ]
    },
    {
     "name": "stderr",
     "output_type": "stream",
     "text": [
      "100%|██████████████████████████████████████████████████████████████████████████████████| 98/98 [00:24<00:00,  4.03it/s]\n"
     ]
    },
    {
     "name": "stdout",
     "output_type": "stream",
     "text": [
      "training loss: 1.6329, accuracy: 85.08, Optimzer LR: 7.653617987700438e-05\n"
     ]
    },
    {
     "name": "stderr",
     "output_type": "stream",
     "text": [
      "100%|██████████████████████████████████████████████████████████████████████████████████| 20/20 [00:01<00:00, 12.66it/s]\n"
     ]
    },
    {
     "name": "stdout",
     "output_type": "stream",
     "text": [
      "Test loss: 1.6297, accuracy: 84.70\n",
      "Epoch: 14\n"
     ]
    },
    {
     "name": "stderr",
     "output_type": "stream",
     "text": [
      "100%|██████████████████████████████████████████████████████████████████████████████████| 98/98 [00:24<00:00,  4.06it/s]\n"
     ]
    },
    {
     "name": "stdout",
     "output_type": "stream",
     "text": [
      "training loss: 1.6217, accuracy: 85.89, Optimzer LR: 6.957191157343294e-05\n"
     ]
    },
    {
     "name": "stderr",
     "output_type": "stream",
     "text": [
      "100%|██████████████████████████████████████████████████████████████████████████████████| 20/20 [00:01<00:00, 12.49it/s]\n"
     ]
    },
    {
     "name": "stdout",
     "output_type": "stream",
     "text": [
      "Test loss: 1.6212, accuracy: 85.50\n",
      "Epoch: 15\n"
     ]
    },
    {
     "name": "stderr",
     "output_type": "stream",
     "text": [
      "100%|██████████████████████████████████████████████████████████████████████████████████| 98/98 [00:24<00:00,  4.05it/s]\n"
     ]
    },
    {
     "name": "stdout",
     "output_type": "stream",
     "text": [
      "training loss: 1.6110, accuracy: 87.14, Optimzer LR: 6.260764326986151e-05\n"
     ]
    },
    {
     "name": "stderr",
     "output_type": "stream",
     "text": [
      "100%|██████████████████████████████████████████████████████████████████████████████████| 20/20 [00:01<00:00, 12.92it/s]\n"
     ]
    },
    {
     "name": "stdout",
     "output_type": "stream",
     "text": [
      "Test loss: 1.6236, accuracy: 85.30\n",
      "Epoch: 16\n"
     ]
    },
    {
     "name": "stderr",
     "output_type": "stream",
     "text": [
      "100%|██████████████████████████████████████████████████████████████████████████████████| 98/98 [00:23<00:00,  4.10it/s]\n"
     ]
    },
    {
     "name": "stdout",
     "output_type": "stream",
     "text": [
      "training loss: 1.6009, accuracy: 88.08, Optimzer LR: 5.5643374966290096e-05\n"
     ]
    },
    {
     "name": "stderr",
     "output_type": "stream",
     "text": [
      "100%|██████████████████████████████████████████████████████████████████████████████████| 20/20 [00:01<00:00, 13.27it/s]\n"
     ]
    },
    {
     "name": "stdout",
     "output_type": "stream",
     "text": [
      "Test loss: 1.6071, accuracy: 86.90\n",
      "Epoch: 17\n"
     ]
    },
    {
     "name": "stderr",
     "output_type": "stream",
     "text": [
      "100%|██████████████████████████████████████████████████████████████████████████████████| 98/98 [00:23<00:00,  4.12it/s]\n"
     ]
    },
    {
     "name": "stdout",
     "output_type": "stream",
     "text": [
      "training loss: 1.5899, accuracy: 89.23, Optimzer LR: 4.867910666271867e-05\n"
     ]
    },
    {
     "name": "stderr",
     "output_type": "stream",
     "text": [
      "100%|██████████████████████████████████████████████████████████████████████████████████| 20/20 [00:01<00:00, 13.24it/s]\n"
     ]
    },
    {
     "name": "stdout",
     "output_type": "stream",
     "text": [
      "Test loss: 1.6042, accuracy: 86.97\n",
      "Epoch: 18\n"
     ]
    },
    {
     "name": "stderr",
     "output_type": "stream",
     "text": [
      "100%|██████████████████████████████████████████████████████████████████████████████████| 98/98 [00:23<00:00,  4.18it/s]\n"
     ]
    },
    {
     "name": "stdout",
     "output_type": "stream",
     "text": [
      "training loss: 1.5819, accuracy: 89.53, Optimzer LR: 4.1714838359147214e-05\n"
     ]
    },
    {
     "name": "stderr",
     "output_type": "stream",
     "text": [
      "100%|██████████████████████████████████████████████████████████████████████████████████| 20/20 [00:01<00:00, 12.12it/s]\n"
     ]
    },
    {
     "name": "stdout",
     "output_type": "stream",
     "text": [
      "Test loss: 1.5948, accuracy: 88.22\n",
      "Epoch: 19\n"
     ]
    },
    {
     "name": "stderr",
     "output_type": "stream",
     "text": [
      "100%|██████████████████████████████████████████████████████████████████████████████████| 98/98 [00:23<00:00,  4.16it/s]\n"
     ]
    },
    {
     "name": "stdout",
     "output_type": "stream",
     "text": [
      "training loss: 1.5714, accuracy: 90.68, Optimzer LR: 3.47505700555758e-05\n"
     ]
    },
    {
     "name": "stderr",
     "output_type": "stream",
     "text": [
      "100%|██████████████████████████████████████████████████████████████████████████████████| 20/20 [00:01<00:00, 13.03it/s]\n"
     ]
    },
    {
     "name": "stdout",
     "output_type": "stream",
     "text": [
      "Test loss: 1.5879, accuracy: 88.76\n",
      "Epoch: 20\n"
     ]
    },
    {
     "name": "stderr",
     "output_type": "stream",
     "text": [
      "100%|██████████████████████████████████████████████████████████████████████████████████| 98/98 [00:23<00:00,  4.16it/s]\n"
     ]
    },
    {
     "name": "stdout",
     "output_type": "stream",
     "text": [
      "training loss: 1.5629, accuracy: 91.50, Optimzer LR: 2.7786301752004373e-05\n"
     ]
    },
    {
     "name": "stderr",
     "output_type": "stream",
     "text": [
      "100%|██████████████████████████████████████████████████████████████████████████████████| 20/20 [00:01<00:00, 13.31it/s]\n"
     ]
    },
    {
     "name": "stdout",
     "output_type": "stream",
     "text": [
      "Test loss: 1.5903, accuracy: 88.52\n",
      "Epoch: 21\n"
     ]
    },
    {
     "name": "stderr",
     "output_type": "stream",
     "text": [
      "100%|██████████████████████████████████████████████████████████████████████████████████| 98/98 [00:23<00:00,  4.10it/s]\n"
     ]
    },
    {
     "name": "stdout",
     "output_type": "stream",
     "text": [
      "training loss: 1.5554, accuracy: 92.43, Optimzer LR: 2.0822033448432946e-05\n"
     ]
    },
    {
     "name": "stderr",
     "output_type": "stream",
     "text": [
      "100%|██████████████████████████████████████████████████████████████████████████████████| 20/20 [00:01<00:00, 13.04it/s]\n"
     ]
    },
    {
     "name": "stdout",
     "output_type": "stream",
     "text": [
      "Test loss: 1.5774, accuracy: 89.54\n",
      "Epoch: 22\n"
     ]
    },
    {
     "name": "stderr",
     "output_type": "stream",
     "text": [
      "100%|██████████████████████████████████████████████████████████████████████████████████| 98/98 [00:23<00:00,  4.16it/s]\n"
     ]
    },
    {
     "name": "stdout",
     "output_type": "stream",
     "text": [
      "training loss: 1.5457, accuracy: 92.95, Optimzer LR: 1.3857765144861518e-05\n"
     ]
    },
    {
     "name": "stderr",
     "output_type": "stream",
     "text": [
      "100%|██████████████████████████████████████████████████████████████████████████████████| 20/20 [00:01<00:00, 13.66it/s]\n"
     ]
    },
    {
     "name": "stdout",
     "output_type": "stream",
     "text": [
      "Test loss: 1.5715, accuracy: 90.13\n",
      "Epoch: 23\n"
     ]
    },
    {
     "name": "stderr",
     "output_type": "stream",
     "text": [
      "100%|██████████████████████████████████████████████████████████████████████████████████| 98/98 [00:23<00:00,  4.23it/s]\n"
     ]
    },
    {
     "name": "stdout",
     "output_type": "stream",
     "text": [
      "training loss: 1.5380, accuracy: 93.62, Optimzer LR: 6.8934968412900775e-06\n"
     ]
    },
    {
     "name": "stderr",
     "output_type": "stream",
     "text": [
      "100%|██████████████████████████████████████████████████████████████████████████████████| 20/20 [00:01<00:00, 13.70it/s]\n"
     ]
    },
    {
     "name": "stdout",
     "output_type": "stream",
     "text": [
      "Test loss: 1.5673, accuracy: 90.34\n",
      "Epoch: 24\n"
     ]
    },
    {
     "name": "stderr",
     "output_type": "stream",
     "text": [
      "100%|██████████████████████████████████████████████████████████████████████████████████| 98/98 [00:24<00:00,  4.01it/s]\n"
     ]
    },
    {
     "name": "stdout",
     "output_type": "stream",
     "text": [
      "training loss: 1.5319, accuracy: 94.25, Optimzer LR: -7.077146228134988e-08\n"
     ]
    },
    {
     "name": "stderr",
     "output_type": "stream",
     "text": [
      "100%|██████████████████████████████████████████████████████████████████████████████████| 20/20 [00:01<00:00, 13.77it/s]"
     ]
    },
    {
     "name": "stdout",
     "output_type": "stream",
     "text": [
      "Test loss: 1.5637, accuracy: 90.85\n"
     ]
    },
    {
     "name": "stderr",
     "output_type": "stream",
     "text": [
      "\n"
     ]
    }
   ],
   "source": [
    "for epoch in range(epochs):\n",
    "    print(f\"Epoch: {epoch + 1}\")\n",
    "    train(nn_model, trainloader, optimizer, criterion, device)\n",
    "    test(nn_model, testloader, criterion, device)"
   ]
  },
  {
   "cell_type": "code",
   "execution_count": null,
   "id": "1aec3910",
   "metadata": {},
   "outputs": [],
   "source": []
  },
  {
   "cell_type": "markdown",
   "id": "b9a5a88a",
   "metadata": {},
   "source": [
    "### Approach 2: Use the \"Trainer\" class from main.py to train and test the model"
   ]
  },
  {
   "cell_type": "code",
   "execution_count": 45,
   "id": "9595078b",
   "metadata": {},
   "outputs": [],
   "source": [
    "# nn_model = ResNetCIFAR10().to(device)\n",
    "nn_trainer = Trainer(nn_model, device, criterion, optimizer, batch_size, scheduler=scheduler)\n"
   ]
  },
  {
   "cell_type": "code",
   "execution_count": 46,
   "id": "acbaed1c",
   "metadata": {},
   "outputs": [
    {
     "name": "stdout",
     "output_type": "stream",
     "text": [
      "Epoch: 1\n"
     ]
    },
    {
     "name": "stderr",
     "output_type": "stream",
     "text": [
      " Loss=2.0315043926239014 Batch_id=97 Accuracy=35.04: 100%|█████████████████████████████| 98/98 [00:28<00:00,  3.42it/s]\n",
      "100%|██████████████████████████████████████████████████████████████████████████████████| 20/20 [00:11<00:00,  1.71it/s]\n"
     ]
    },
    {
     "name": "stdout",
     "output_type": "stream",
     "text": [
      "Test loss: 2.0269, accuracy: 43.59\n",
      "Epoch: 2\n"
     ]
    },
    {
     "name": "stderr",
     "output_type": "stream",
     "text": [
      " Loss=1.900177240371704 Batch_id=97 Accuracy=51.52: 100%|██████████████████████████████| 98/98 [00:28<00:00,  3.40it/s]\n",
      "100%|██████████████████████████████████████████████████████████████████████████████████| 20/20 [00:13<00:00,  1.46it/s]\n"
     ]
    },
    {
     "name": "stdout",
     "output_type": "stream",
     "text": [
      "Test loss: 1.9222, accuracy: 54.30\n",
      "Epoch: 3\n"
     ]
    },
    {
     "name": "stderr",
     "output_type": "stream",
     "text": [
      " Loss=1.7928556203842163 Batch_id=97 Accuracy=63.00: 100%|█████████████████████████████| 98/98 [00:29<00:00,  3.37it/s]\n",
      "100%|██████████████████████████████████████████████████████████████████████████████████| 20/20 [00:11<00:00,  1.71it/s]\n"
     ]
    },
    {
     "name": "stdout",
     "output_type": "stream",
     "text": [
      "Test loss: 1.8118, accuracy: 65.90\n",
      "Epoch: 4\n"
     ]
    },
    {
     "name": "stderr",
     "output_type": "stream",
     "text": [
      " Loss=1.7588438987731934 Batch_id=97 Accuracy=70.45: 100%|█████████████████████████████| 98/98 [00:28<00:00,  3.42it/s]\n",
      "100%|██████████████████████████████████████████████████████████████████████████████████| 20/20 [00:11<00:00,  1.67it/s]\n"
     ]
    },
    {
     "name": "stdout",
     "output_type": "stream",
     "text": [
      "Test loss: 1.7639, accuracy: 70.49\n",
      "Epoch: 5\n"
     ]
    },
    {
     "name": "stderr",
     "output_type": "stream",
     "text": [
      " Loss=1.723996639251709 Batch_id=97 Accuracy=74.01: 100%|██████████████████████████████| 98/98 [00:29<00:00,  3.36it/s]\n",
      "100%|██████████████████████████████████████████████████████████████████████████████████| 20/20 [00:12<00:00,  1.57it/s]\n"
     ]
    },
    {
     "name": "stdout",
     "output_type": "stream",
     "text": [
      "Test loss: 1.7328, accuracy: 73.68\n",
      "Epoch: 6\n"
     ]
    },
    {
     "name": "stderr",
     "output_type": "stream",
     "text": [
      " Loss=1.7122681140899658 Batch_id=97 Accuracy=77.08: 100%|█████████████████████████████| 98/98 [00:29<00:00,  3.28it/s]\n",
      "100%|██████████████████████████████████████████████████████████████████████████████████| 20/20 [00:12<00:00,  1.61it/s]\n"
     ]
    },
    {
     "name": "stdout",
     "output_type": "stream",
     "text": [
      "Test loss: 1.6985, accuracy: 76.90\n",
      "Epoch: 7\n"
     ]
    },
    {
     "name": "stderr",
     "output_type": "stream",
     "text": [
      " Loss=1.698981523513794 Batch_id=97 Accuracy=78.76: 100%|██████████████████████████████| 98/98 [00:29<00:00,  3.31it/s]\n",
      "100%|██████████████████████████████████████████████████████████████████████████████████| 20/20 [00:11<00:00,  1.74it/s]\n"
     ]
    },
    {
     "name": "stdout",
     "output_type": "stream",
     "text": [
      "Test loss: 1.6790, accuracy: 78.83\n",
      "Epoch: 8\n"
     ]
    },
    {
     "name": "stderr",
     "output_type": "stream",
     "text": [
      " Loss=1.6650543212890625 Batch_id=97 Accuracy=80.49: 100%|█████████████████████████████| 98/98 [00:28<00:00,  3.44it/s]\n",
      "100%|██████████████████████████████████████████████████████████████████████████████████| 20/20 [00:12<00:00,  1.66it/s]\n"
     ]
    },
    {
     "name": "stdout",
     "output_type": "stream",
     "text": [
      "Test loss: 1.6641, accuracy: 80.45\n",
      "Epoch: 9\n"
     ]
    },
    {
     "name": "stderr",
     "output_type": "stream",
     "text": [
      " Loss=1.6674505472183228 Batch_id=97 Accuracy=81.53: 100%|█████████████████████████████| 98/98 [00:30<00:00,  3.26it/s]\n",
      "100%|██████████████████████████████████████████████████████████████████████████████████| 20/20 [00:12<00:00,  1.62it/s]\n"
     ]
    },
    {
     "name": "stdout",
     "output_type": "stream",
     "text": [
      "Test loss: 1.6675, accuracy: 80.41\n",
      "Epoch: 10\n"
     ]
    },
    {
     "name": "stderr",
     "output_type": "stream",
     "text": [
      " Loss=1.6363871097564697 Batch_id=97 Accuracy=82.51: 100%|█████████████████████████████| 98/98 [00:29<00:00,  3.29it/s]\n",
      "100%|██████████████████████████████████████████████████████████████████████████████████| 20/20 [00:12<00:00,  1.66it/s]\n"
     ]
    },
    {
     "name": "stdout",
     "output_type": "stream",
     "text": [
      "Test loss: 1.6740, accuracy: 79.21\n",
      "Epoch: 11\n"
     ]
    },
    {
     "name": "stderr",
     "output_type": "stream",
     "text": [
      " Loss=1.6418497562408447 Batch_id=97 Accuracy=83.50: 100%|█████████████████████████████| 98/98 [00:28<00:00,  3.38it/s]\n",
      "100%|██████████████████████████████████████████████████████████████████████████████████| 20/20 [00:11<00:00,  1.70it/s]\n"
     ]
    },
    {
     "name": "stdout",
     "output_type": "stream",
     "text": [
      "Test loss: 1.6496, accuracy: 81.93\n",
      "Epoch: 12\n"
     ]
    },
    {
     "name": "stderr",
     "output_type": "stream",
     "text": [
      " Loss=1.6150057315826416 Batch_id=97 Accuracy=84.26: 100%|█████████████████████████████| 98/98 [00:28<00:00,  3.45it/s]\n",
      "100%|██████████████████████████████████████████████████████████████████████████████████| 20/20 [00:11<00:00,  1.73it/s]\n"
     ]
    },
    {
     "name": "stdout",
     "output_type": "stream",
     "text": [
      "Test loss: 1.6665, accuracy: 80.25\n",
      "Epoch: 13\n"
     ]
    },
    {
     "name": "stderr",
     "output_type": "stream",
     "text": [
      " Loss=1.642470359802246 Batch_id=97 Accuracy=84.56: 100%|██████████████████████████████| 98/98 [00:28<00:00,  3.45it/s]\n",
      "100%|██████████████████████████████████████████████████████████████████████████████████| 20/20 [00:11<00:00,  1.70it/s]\n"
     ]
    },
    {
     "name": "stdout",
     "output_type": "stream",
     "text": [
      "Test loss: 1.6916, accuracy: 77.39\n",
      "Epoch: 14\n"
     ]
    },
    {
     "name": "stderr",
     "output_type": "stream",
     "text": [
      " Loss=1.6270610094070435 Batch_id=97 Accuracy=85.26: 100%|█████████████████████████████| 98/98 [00:28<00:00,  3.45it/s]\n",
      "100%|██████████████████████████████████████████████████████████████████████████████████| 20/20 [00:11<00:00,  1.73it/s]\n"
     ]
    },
    {
     "name": "stdout",
     "output_type": "stream",
     "text": [
      "Test loss: 1.6689, accuracy: 79.61\n",
      "Epoch: 15\n"
     ]
    },
    {
     "name": "stderr",
     "output_type": "stream",
     "text": [
      " Loss=1.5990655422210693 Batch_id=97 Accuracy=85.92: 100%|█████████████████████████████| 98/98 [00:28<00:00,  3.45it/s]\n",
      "100%|██████████████████████████████████████████████████████████████████████████████████| 20/20 [00:11<00:00,  1.72it/s]\n"
     ]
    },
    {
     "name": "stdout",
     "output_type": "stream",
     "text": [
      "Test loss: 1.6389, accuracy: 82.96\n",
      "Epoch: 16\n"
     ]
    },
    {
     "name": "stderr",
     "output_type": "stream",
     "text": [
      " Loss=1.60940682888031 Batch_id=97 Accuracy=86.49: 100%|███████████████████████████████| 98/98 [00:28<00:00,  3.45it/s]\n",
      "100%|██████████████████████████████████████████████████████████████████████████████████| 20/20 [00:11<00:00,  1.70it/s]\n"
     ]
    },
    {
     "name": "stdout",
     "output_type": "stream",
     "text": [
      "Test loss: 1.6171, accuracy: 85.16\n",
      "Epoch: 17\n"
     ]
    },
    {
     "name": "stderr",
     "output_type": "stream",
     "text": [
      " Loss=1.6067029237747192 Batch_id=97 Accuracy=86.90: 100%|█████████████████████████████| 98/98 [00:28<00:00,  3.45it/s]\n",
      "100%|██████████████████████████████████████████████████████████████████████████████████| 20/20 [00:11<00:00,  1.72it/s]\n"
     ]
    },
    {
     "name": "stdout",
     "output_type": "stream",
     "text": [
      "Test loss: 1.6382, accuracy: 83.01\n",
      "Epoch: 18\n"
     ]
    },
    {
     "name": "stderr",
     "output_type": "stream",
     "text": [
      " Loss=1.5948160886764526 Batch_id=97 Accuracy=87.23: 100%|█████████████████████████████| 98/98 [00:28<00:00,  3.46it/s]\n",
      "100%|██████████████████████████████████████████████████████████████████████████████████| 20/20 [00:11<00:00,  1.72it/s]\n"
     ]
    },
    {
     "name": "stdout",
     "output_type": "stream",
     "text": [
      "Test loss: 1.6289, accuracy: 83.83\n",
      "Epoch: 19\n"
     ]
    },
    {
     "name": "stderr",
     "output_type": "stream",
     "text": [
      " Loss=1.600714921951294 Batch_id=97 Accuracy=87.62: 100%|██████████████████████████████| 98/98 [00:28<00:00,  3.45it/s]\n",
      "100%|██████████████████████████████████████████████████████████████████████████████████| 20/20 [00:11<00:00,  1.73it/s]\n"
     ]
    },
    {
     "name": "stdout",
     "output_type": "stream",
     "text": [
      "Test loss: 1.6129, accuracy: 85.57\n",
      "Epoch: 20\n"
     ]
    },
    {
     "name": "stderr",
     "output_type": "stream",
     "text": [
      " Loss=1.5700970888137817 Batch_id=97 Accuracy=88.08: 100%|█████████████████████████████| 98/98 [00:31<00:00,  3.15it/s]\n",
      "100%|██████████████████████████████████████████████████████████████████████████████████| 20/20 [00:12<00:00,  1.57it/s]\n"
     ]
    },
    {
     "name": "stdout",
     "output_type": "stream",
     "text": [
      "Test loss: 1.6347, accuracy: 83.05\n",
      "Epoch: 21\n"
     ]
    },
    {
     "name": "stderr",
     "output_type": "stream",
     "text": [
      " Loss=1.598025918006897 Batch_id=97 Accuracy=88.23: 100%|██████████████████████████████| 98/98 [00:29<00:00,  3.36it/s]\n",
      "100%|██████████████████████████████████████████████████████████████████████████████████| 20/20 [00:11<00:00,  1.73it/s]\n"
     ]
    },
    {
     "name": "stdout",
     "output_type": "stream",
     "text": [
      "Test loss: 1.6122, accuracy: 85.60\n",
      "Epoch: 22\n"
     ]
    },
    {
     "name": "stderr",
     "output_type": "stream",
     "text": [
      " Loss=1.6038981676101685 Batch_id=97 Accuracy=88.76: 100%|█████████████████████████████| 98/98 [00:28<00:00,  3.47it/s]\n",
      "100%|██████████████████████████████████████████████████████████████████████████████████| 20/20 [00:11<00:00,  1.73it/s]\n"
     ]
    },
    {
     "name": "stdout",
     "output_type": "stream",
     "text": [
      "Test loss: 1.6203, accuracy: 84.80\n",
      "Epoch: 23\n"
     ]
    },
    {
     "name": "stderr",
     "output_type": "stream",
     "text": [
      " Loss=1.593686819076538 Batch_id=97 Accuracy=89.03: 100%|██████████████████████████████| 98/98 [00:28<00:00,  3.47it/s]\n",
      "100%|██████████████████████████████████████████████████████████████████████████████████| 20/20 [00:11<00:00,  1.70it/s]\n"
     ]
    },
    {
     "name": "stdout",
     "output_type": "stream",
     "text": [
      "Test loss: 1.6025, accuracy: 86.50\n",
      "Epoch: 24\n"
     ]
    },
    {
     "name": "stderr",
     "output_type": "stream",
     "text": [
      " Loss=1.5937389135360718 Batch_id=97 Accuracy=89.33: 100%|█████████████████████████████| 98/98 [00:28<00:00,  3.47it/s]\n",
      "100%|██████████████████████████████████████████████████████████████████████████████████| 20/20 [00:11<00:00,  1.70it/s]"
     ]
    },
    {
     "name": "stdout",
     "output_type": "stream",
     "text": [
      "Test loss: 1.5995, accuracy: 87.11\n"
     ]
    },
    {
     "name": "stderr",
     "output_type": "stream",
     "text": [
      "\n"
     ]
    }
   ],
   "source": [
    "for epoch in range(epochs):\n",
    "    print(f\"Epoch: {epoch + 1}\")\n",
    "    nn_trainer.train(trainloader)\n",
    "    nn_trainer.test(testloader)"
   ]
  },
  {
   "cell_type": "code",
   "execution_count": null,
   "id": "948448f3",
   "metadata": {},
   "outputs": [],
   "source": []
  }
 ],
 "metadata": {
  "kernelspec": {
   "display_name": "tf",
   "language": "python",
   "name": "python3"
  },
  "language_info": {
   "codemirror_mode": {
    "name": "ipython",
    "version": 3
   },
   "file_extension": ".py",
   "mimetype": "text/x-python",
   "name": "python",
   "nbconvert_exporter": "python",
   "pygments_lexer": "ipython3",
   "version": "3.9.13"
  }
 },
 "nbformat": 4,
 "nbformat_minor": 5
}
